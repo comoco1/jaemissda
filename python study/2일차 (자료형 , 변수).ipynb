{
 "cells": [
  {
   "cell_type": "code",
   "execution_count": 1,
   "id": "04b809f8",
   "metadata": {},
   "outputs": [],
   "source": [
    "#파이썬 자료형"
   ]
  },
  {
   "cell_type": "code",
   "execution_count": 2,
   "id": "235b587a",
   "metadata": {},
   "outputs": [],
   "source": [
    "# 정수형 =>int / 실수형 => float / 문자형 => str / 논리형 => bool /타입확인은 =>  type"
   ]
  },
  {
   "cell_type": "code",
   "execution_count": 3,
   "id": "8626e155",
   "metadata": {},
   "outputs": [
    {
     "name": "stdout",
     "output_type": "stream",
     "text": [
      "<class 'float'>\n",
      "<class 'int'>\n"
     ]
    }
   ],
   "source": [
    "print(type(5.2))\n",
    "print(type(10))"
   ]
  },
  {
   "cell_type": "code",
   "execution_count": 4,
   "id": "4fd3e920",
   "metadata": {},
   "outputs": [
    {
     "name": "stdout",
     "output_type": "stream",
     "text": [
      "2.0\n",
      "4\n",
      "4.2\n"
     ]
    }
   ],
   "source": [
    "print(0.5+1.5)  #실수형 끼리의 합은 정수로 떨어져도 실수형으로 표시\n",
    "print(1+3)      #정수형 끼리 합은 정수형으로 표시\n",
    "print(1.2+3)    #실수형 + 정수형이면 실수형으로 표시"
   ]
  },
  {
   "cell_type": "code",
   "execution_count": 5,
   "id": "c62afe3d",
   "metadata": {},
   "outputs": [
    {
     "name": "stdout",
     "output_type": "stream",
     "text": [
      "<class 'str'>\n"
     ]
    }
   ],
   "source": [
    "print(type(\"문자형은 str로 뜰걸?\"))"
   ]
  },
  {
   "cell_type": "code",
   "execution_count": 7,
   "id": "559ee787",
   "metadata": {},
   "outputs": [
    {
     "name": "stdout",
     "output_type": "stream",
     "text": [
      "<class 'bool'>\n"
     ]
    }
   ],
   "source": [
    "print(type(2 == 3)) # 파이썬에서 같다는 =="
   ]
  },
  {
   "cell_type": "code",
   "execution_count": 8,
   "id": "cec62dde",
   "metadata": {},
   "outputs": [],
   "source": [
    "# 변수"
   ]
  },
  {
   "cell_type": "code",
   "execution_count": 9,
   "id": "b63eb1aa",
   "metadata": {},
   "outputs": [
    {
     "name": "stdout",
     "output_type": "stream",
     "text": [
      "3\n"
     ]
    }
   ],
   "source": [
    "a = 3  #a라는 변수에 3을 대입\n",
    "print(a)       #a를 출력 => 3이 출력"
   ]
  },
  {
   "cell_type": "code",
   "execution_count": 10,
   "id": "3e34b483",
   "metadata": {},
   "outputs": [
    {
     "name": "stdout",
     "output_type": "stream",
     "text": [
      "3\n",
      "10\n"
     ]
    }
   ],
   "source": [
    "a = 3\n",
    "print(a)      \n",
    "a = 10            #다시 a에 10을 집어넣어 원래 있던 변수값에서 변경\n",
    "print(a)"
   ]
  },
  {
   "cell_type": "code",
   "execution_count": 11,
   "id": "f14bac54",
   "metadata": {},
   "outputs": [],
   "source": [
    "#인덱싱"
   ]
  },
  {
   "cell_type": "code",
   "execution_count": 18,
   "id": "d9358d02",
   "metadata": {},
   "outputs": [
    {
     "name": "stdout",
     "output_type": "stream",
     "text": [
      "와\n",
      "죽겄네 \n",
      ".\n"
     ]
    }
   ],
   "source": [
    "#맨 첫번째 글자는 인덱싱이 0으로 시작한다.  # \"잠와 죽겄다.\" -> 0 1 2 3 4 5 6\n",
    "a = \"잠와 죽겄네 리얼...\"\n",
    "print(a[1])\n",
    "print(a[3:7])\n",
    "print(a[-1])"
   ]
  },
  {
   "cell_type": "code",
   "execution_count": null,
   "id": "9e5da69a",
   "metadata": {},
   "outputs": [],
   "source": []
  }
 ],
 "metadata": {
  "kernelspec": {
   "display_name": "Python 3 (ipykernel)",
   "language": "python",
   "name": "python3"
  },
  "language_info": {
   "codemirror_mode": {
    "name": "ipython",
    "version": 3
   },
   "file_extension": ".py",
   "mimetype": "text/x-python",
   "name": "python",
   "nbconvert_exporter": "python",
   "pygments_lexer": "ipython3",
   "version": "3.11.1"
  }
 },
 "nbformat": 4,
 "nbformat_minor": 5
}
