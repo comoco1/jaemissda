{
 "cells": [
  {
   "cell_type": "code",
   "execution_count": 1,
   "id": "079a595b",
   "metadata": {},
   "outputs": [],
   "source": [
    "#for문"
   ]
  },
  {
   "cell_type": "code",
   "execution_count": 6,
   "id": "0c5d4391",
   "metadata": {},
   "outputs": [
    {
     "name": "stdout",
     "output_type": "stream",
     "text": [
      "0 1 2 3 4 5 6 7 8 9 "
     ]
    }
   ],
   "source": [
    "for i in range(10):\n",
    "    print(i,end =\" \") # end =\"\" -> 줄바꿈 없애기\n",
    "    \n",
    "# for 변수 in range(시작숫자(생략시 0),끝나는 숫자(10이면 9까지 / 16이면 15까지)):\n",
    "#       반복수행문"
   ]
  },
  {
   "cell_type": "code",
   "execution_count": 7,
   "id": "c721b76c",
   "metadata": {},
   "outputs": [
    {
     "name": "stdout",
     "output_type": "stream",
     "text": [
      "2 * 1 2\n",
      "2 * 2 4\n",
      "2 * 3 6\n",
      "2 * 4 8\n",
      "2 * 5 10\n",
      "2 * 6 12\n",
      "2 * 7 14\n",
      "2 * 8 16\n",
      "2 * 9 18\n",
      "\n",
      "3 * 1 3\n",
      "3 * 2 6\n",
      "3 * 3 9\n",
      "3 * 4 12\n",
      "3 * 5 15\n",
      "3 * 6 18\n",
      "3 * 7 21\n",
      "3 * 8 24\n",
      "3 * 9 27\n",
      "\n",
      "4 * 1 4\n",
      "4 * 2 8\n",
      "4 * 3 12\n",
      "4 * 4 16\n",
      "4 * 5 20\n",
      "4 * 6 24\n",
      "4 * 7 28\n",
      "4 * 8 32\n",
      "4 * 9 36\n",
      "\n",
      "5 * 1 5\n",
      "5 * 2 10\n",
      "5 * 3 15\n",
      "5 * 4 20\n",
      "5 * 5 25\n",
      "5 * 6 30\n",
      "5 * 7 35\n",
      "5 * 8 40\n",
      "5 * 9 45\n",
      "\n",
      "6 * 1 6\n",
      "6 * 2 12\n",
      "6 * 3 18\n",
      "6 * 4 24\n",
      "6 * 5 30\n",
      "6 * 6 36\n",
      "6 * 7 42\n",
      "6 * 8 48\n",
      "6 * 9 54\n",
      "\n",
      "7 * 1 7\n",
      "7 * 2 14\n",
      "7 * 3 21\n",
      "7 * 4 28\n",
      "7 * 5 35\n",
      "7 * 6 42\n",
      "7 * 7 49\n",
      "7 * 8 56\n",
      "7 * 9 63\n",
      "\n",
      "8 * 1 8\n",
      "8 * 2 16\n",
      "8 * 3 24\n",
      "8 * 4 32\n",
      "8 * 5 40\n",
      "8 * 6 48\n",
      "8 * 7 56\n",
      "8 * 8 64\n",
      "8 * 9 72\n",
      "\n",
      "9 * 1 9\n",
      "9 * 2 18\n",
      "9 * 3 27\n",
      "9 * 4 36\n",
      "9 * 5 45\n",
      "9 * 6 54\n",
      "9 * 7 63\n",
      "9 * 8 72\n",
      "9 * 9 81\n",
      "\n"
     ]
    }
   ],
   "source": [
    "#구구단 제작 (이중 반복문)\n",
    "for i in range(2,10) :\n",
    "    for j in range(1,10):\n",
    "        print(i,\"*\",j,int(i*j))\n",
    "    print('')"
   ]
  },
  {
   "cell_type": "code",
   "execution_count": 12,
   "id": "f5294a52",
   "metadata": {},
   "outputs": [
    {
     "name": "stdout",
     "output_type": "stream",
     "text": [
      "0 1 2 3 4 5 6 7 8 9 "
     ]
    }
   ],
   "source": [
    "#while문\n",
    "#while 조건문 :\n",
    "#    실행문\n",
    "\n",
    "count = 0\n",
    "while count < 10 :\n",
    "    print(count,end=' ')\n",
    "    count += 1"
   ]
  },
  {
   "cell_type": "code",
   "execution_count": 15,
   "id": "1bd674fc",
   "metadata": {},
   "outputs": [
    {
     "data": {
      "text/plain": [
       "'\\n    while True:\\n        print(a)  ->a가 무한으로 생성\\n'"
      ]
     },
     "execution_count": 15,
     "metadata": {},
     "output_type": "execute_result"
    }
   ],
   "source": [
    "#무한 반복문\n",
    "'''\n",
    "    while True:\n",
    "        print(a)  ->a가 무한으로 생성\n",
    "'''\n",
    "    "
   ]
  },
  {
   "cell_type": "code",
   "execution_count": 16,
   "id": "406e6848",
   "metadata": {},
   "outputs": [
    {
     "name": "stdout",
     "output_type": "stream",
     "text": [
      "문을 여시겠습니까? 1 : Yes / 2 : No \n",
      "1\n",
      "문을 열었습니다.\n",
      "문을 여시겠습니까? 1 : Yes / 2 : No \n",
      "2\n"
     ]
    }
   ],
   "source": [
    "#위의 while 무한 반복문은 정지되지 않는다.특정 상황에서 정지하고 싶다면 break문을 사용!\n",
    "number = 0\n",
    "while True :\n",
    "    print(\"문을 여시겠습니까? 1 : Yes / 2 : No \")\n",
    "    number = int(input())\n",
    "    \n",
    "    if number == 1:\n",
    "        print(\"문을 열었습니다.\")\n",
    "    elif number ==2:\n",
    "        break                     #  number가 2인경우 while 문 밖으로 나간다."
   ]
  },
  {
   "cell_type": "code",
   "execution_count": null,
   "id": "8992d178",
   "metadata": {},
   "outputs": [],
   "source": []
  }
 ],
 "metadata": {
  "kernelspec": {
   "display_name": "Python 3 (ipykernel)",
   "language": "python",
   "name": "python3"
  },
  "language_info": {
   "codemirror_mode": {
    "name": "ipython",
    "version": 3
   },
   "file_extension": ".py",
   "mimetype": "text/x-python",
   "name": "python",
   "nbconvert_exporter": "python",
   "pygments_lexer": "ipython3",
   "version": "3.11.1"
  }
 },
 "nbformat": 4,
 "nbformat_minor": 5
}
