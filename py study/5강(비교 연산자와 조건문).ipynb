{
 "cells": [
  {
   "cell_type": "code",
   "execution_count": 1,
   "id": "bbfe76b6",
   "metadata": {},
   "outputs": [],
   "source": [
    "# 비교연산자 -> 두 객체간의 비교를 위한 연산자 (결과 값은 참 / 거짓)"
   ]
  },
  {
   "cell_type": "code",
   "execution_count": 4,
   "id": "68486e25",
   "metadata": {},
   "outputs": [
    {
     "name": "stdout",
     "output_type": "stream",
     "text": [
      "False\n",
      "False\n",
      "True\n",
      "True\n",
      "False\n",
      "True\n"
     ]
    }
   ],
   "source": [
    "a = 10\n",
    "b = 20\n",
    "\n",
    "print(a > b)  # a가 b보다 큰가?\n",
    "print(a >= b) # a가 b와 같거나 큰가?\n",
    "print(a < b) # a가 b보다 작은가?\n",
    "print(a <= b) #a가 b와 같거나 작은가?\n",
    "print(a == b) #a와 b가 같은가?\n",
    "print(a != b) #a와 b가 같지 않은가?\n",
    "\n",
    "#결과값이 True False로 나와있는 것을 볼 수 있다."
   ]
  },
  {
   "cell_type": "code",
   "execution_count": 5,
   "id": "068e5df0",
   "metadata": {},
   "outputs": [],
   "source": [
    "#논리연산자(and or not)\n",
    "#a and b = a와 b 둘다 참이어야 참이다.\n",
    "#a or b = a와 b 둘중 하나만 참이어도 참이다.\n",
    "#not a = a가 거짓이면 참이다."
   ]
  },
  {
   "cell_type": "code",
   "execution_count": 6,
   "id": "190e8a01",
   "metadata": {},
   "outputs": [
    {
     "ename": "NameError",
     "evalue": "name '조건1' is not defined",
     "output_type": "error",
     "traceback": [
      "\u001b[1;31m---------------------------------------------------------------------------\u001b[0m",
      "\u001b[1;31mNameError\u001b[0m                                 Traceback (most recent call last)",
      "Cell \u001b[1;32mIn[6], line 2\u001b[0m\n\u001b[0;32m      1\u001b[0m \u001b[38;5;66;03m# if 조건문\u001b[39;00m\n\u001b[1;32m----> 2\u001b[0m \u001b[38;5;28;01mif\u001b[39;00m \u001b[43m조건1\u001b[49m :\n\u001b[0;32m      3\u001b[0m     실행1\n\u001b[0;32m      4\u001b[0m \u001b[38;5;28;01melif\u001b[39;00m 조건2 :\n",
      "\u001b[1;31mNameError\u001b[0m: name '조건1' is not defined"
     ]
    }
   ],
   "source": [
    "# if 조건문\n",
    "if 조건1 :\n",
    "    실행1\n",
    "elif 조건2 :\n",
    "    실행2\n",
    "else :\n",
    "    실행3"
   ]
  },
  {
   "cell_type": "code",
   "execution_count": 8,
   "id": "16b17758",
   "metadata": {},
   "outputs": [
    {
     "name": "stdout",
     "output_type": "stream",
     "text": [
      "거지시네요.\n"
     ]
    }
   ],
   "source": [
    "money = 10000\n",
    "\n",
    "if money >=20000 :\n",
    "    print('부자시네요.')\n",
    "elif money >=15000 :\n",
    "    print('보통이네요.')\n",
    "else :\n",
    "    print(\"거지시네요.\")"
   ]
  },
  {
   "cell_type": "code",
   "execution_count": 11,
   "id": "fa622839",
   "metadata": {},
   "outputs": [
    {
     "name": "stdout",
     "output_type": "stream",
     "text": [
      "헬로가 있습니다.\n",
      "아니여.없어요.\n"
     ]
    }
   ],
   "source": [
    "a = 'Hello World'\n",
    "if 'Hello' in a :                 # a in b -> b 안에 a가 있는가? 있으면 True 없으면 False / 대소문자 구별함.\n",
    "    print(\"헬로가 있습니다.\")\n",
    "else :\n",
    "    print(\"없어요\")\n",
    "\n",
    "if 'hello' not in a :\n",
    "    print(\"아니여.없어요.\")\n",
    "else :\n",
    "    print(\"헬로가 있습니다.\")\n"
   ]
  },
  {
   "cell_type": "code",
   "execution_count": null,
   "id": "6c506336",
   "metadata": {},
   "outputs": [],
   "source": []
  }
 ],
 "metadata": {
  "kernelspec": {
   "display_name": "Python 3 (ipykernel)",
   "language": "python",
   "name": "python3"
  },
  "language_info": {
   "codemirror_mode": {
    "name": "ipython",
    "version": 3
   },
   "file_extension": ".py",
   "mimetype": "text/x-python",
   "name": "python",
   "nbconvert_exporter": "python",
   "pygments_lexer": "ipython3",
   "version": "3.11.1"
  }
 },
 "nbformat": 4,
 "nbformat_minor": 5
}
