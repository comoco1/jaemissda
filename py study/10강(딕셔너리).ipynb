{
 "cells": [
  {
   "cell_type": "code",
   "execution_count": 4,
   "id": "723f84e5",
   "metadata": {},
   "outputs": [
    {
     "name": "stdout",
     "output_type": "stream",
     "text": [
      "{1: 'python', 2: 'c++', 3: 'mysql'}\n",
      "<class 'str'>\n",
      "c++\n"
     ]
    }
   ],
   "source": [
    "# 딕셔너리 -> key와 value값으로 구성 \n",
    "''' \n",
    "    사전이라는 의미로 ex) key는 영단어 : value는 단어의 뜻  으로 생각하면 쉽다.\n",
    "'''\n",
    "\n",
    "a = {1 : 'python' , 2 : 'c++' , 3 : 'mysql'}  # 1,2,3은 key / python,c++,mysql은 value\n",
    "print(a)\n",
    "print(a[2]) # key의 값으로 value 추출 가능  but 순차적인 인덱스로는 접근 불가! key의 값으로 추출만 가능"
   ]
  },
  {
   "cell_type": "code",
   "execution_count": 9,
   "id": "fedb36b1",
   "metadata": {},
   "outputs": [
    {
     "name": "stdout",
     "output_type": "stream",
     "text": [
      "{1: 'python', 2: 'c++', 3: 'mysql', 4: 'java'}\n",
      "{1: 'python', 2: 'c++', 3: 'mysql', 4: 'java', 5: 'R', 6: 'aws'}\n",
      "{1: 'python', 3: 'mysql', 4: 'java', 5: 'R', 6: 'aws'}\n"
     ]
    }
   ],
   "source": [
    "# 딕셔너리 데이터 추가([],update)\n",
    "\n",
    "a = {1 : 'python' , 2 : 'c++' , 3 : 'mysql'} \n",
    "\n",
    "a[4] = \"java\"         #하나의 데이터 추가\n",
    "print(a)\n",
    "\n",
    "a.update({5 : 'R' , 6 : 'aws'})    #여러 데이터 추가\n",
    "print(a)\n",
    "\n",
    "# 딕셔너리 데이터 삭제(del) \n",
    "del a[2]      # key 값을 이용해 데이터삭제\n",
    "print(a)"
   ]
  },
  {
   "cell_type": "code",
   "execution_count": 15,
   "id": "cf76a8ed",
   "metadata": {},
   "outputs": [
    {
     "name": "stdout",
     "output_type": "stream",
     "text": [
      "dict_keys([1, 2, 3])\n",
      "dict_values(['python', 'c++', 'mysql'])\n",
      "[1, 2, 3]\n",
      "['python', 'c++', 'mysql']\n"
     ]
    }
   ],
   "source": [
    "# key값과 value 값 따로 조회\n",
    "\n",
    "a = {1 : 'python' , 2 : 'c++' , 3 : 'mysql'} \n",
    "\n",
    "print(a.keys())\n",
    "print(a.values())             #요래 하니까 좀 드릅네 -> 리스트로 변환해 출력하자\n",
    "a_list = list(a.keys())\n",
    "aa_list = list(a.values())\n",
    "print(a_list)\n",
    "print(aa_list)"
   ]
  },
  {
   "cell_type": "code",
   "execution_count": null,
   "id": "4cd7d9d4",
   "metadata": {},
   "outputs": [],
   "source": []
  }
 ],
 "metadata": {
  "kernelspec": {
   "display_name": "Python 3 (ipykernel)",
   "language": "python",
   "name": "python3"
  },
  "language_info": {
   "codemirror_mode": {
    "name": "ipython",
    "version": 3
   },
   "file_extension": ".py",
   "mimetype": "text/x-python",
   "name": "python",
   "nbconvert_exporter": "python",
   "pygments_lexer": "ipython3",
   "version": "3.11.1"
  }
 },
 "nbformat": 4,
 "nbformat_minor": 5
}
