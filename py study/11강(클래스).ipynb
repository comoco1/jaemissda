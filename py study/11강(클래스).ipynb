{
 "cells": [
  {
   "cell_type": "code",
   "execution_count": 1,
   "id": "466f9c73",
   "metadata": {},
   "outputs": [],
   "source": [
    "#클래스 \n",
    "'''\n",
    "    클래스를 비유할땐 클래스는 <붕어빵 틀> 이다.라고 말한다.\n",
    "    붕어빵을 계속 만들 수 있는, 만들어 내는 틀!\n",
    "    이 틀을 통해 만들어진 붕어빵을 <객체>라고 한다.\n",
    "'''\n",
    "\n",
    "\n",
    "#클래스 작성 코드\n",
    "'''\n",
    "    class 클래스이름 :\n",
    "        클래스코드\n",
    "'''\n",
    "\n",
    "class bread:\n",
    "    pass        # pass ->  아무코드도 정해지지 않았을때 넣는 코드"
   ]
  },
  {
   "cell_type": "code",
   "execution_count": 21,
   "id": "39e1ef40",
   "metadata": {},
   "outputs": [
    {
     "name": "stdout",
     "output_type": "stream",
     "text": [
      "6\n",
      "3\n",
      "20\n",
      "10\n"
     ]
    }
   ],
   "source": [
    "# 객체 만드는 법\n",
    "'''\n",
    "    객체명 = 클래스이름()                          객체명 == 변수  클래스이름()  ==어떤 클래스의 객체를 생성 할껀지 결정\n",
    "'''\n",
    "\n",
    "# 인스턴스 -> 어떤 클래스의 객체   ex) choco = bread()       ->  choco는 bread의 인스턴스이다.\n",
    "# 클래스 안 함수를 메소드라도 부름 ex) class calculator :\n",
    "#                                            def setdata(~~) -> setdata는 메소드\n",
    "\n",
    "\n",
    "#객체를 이용한 응용(계산기)\n",
    "#1. 숫자 삽입\n",
    "class  Calculator :\n",
    "    def setdata(self , first , second):   '''self를 밑에 Calculator 클래스로 생성한 객체라고 생각하면 편함 (a,b)'''              \n",
    "        self.first = first                              \n",
    "        self.second = second\n",
    "                                                        \n",
    "a = Calculator()\n",
    "a.setdata(6,3)\n",
    "print(a.first)\n",
    "print(a.second)\n",
    "\n",
    "'''  중요 ! self -> 맨 밑의 객체 데이터를 전달한다. = 호출한 객체를 의미(a)'''\n",
    "'''  결국 self -> a를 받는다. \n",
    "                first -> a의 첫번째 6을 받는다.\n",
    "                second -> a의 두번째 3을 받는다.'''\n",
    "\n",
    "''' 의미상 self.first는 a.first와 동일 / self.second는 a.second와 동일'''\n",
    "\n",
    "b = Calculator()\n",
    "b.setdata(20,10)\n",
    "print(b.first)\n",
    "print(b.second)    # 다른 객체의 영향을 받지않고 독립적인 성향을 띈다."
   ]
  },
  {
   "cell_type": "code",
   "execution_count": 29,
   "id": "7ec763a2",
   "metadata": {},
   "outputs": [
    {
     "name": "stdout",
     "output_type": "stream",
     "text": [
      "30\n"
     ]
    }
   ],
   "source": [
    "#2. 덧셈기능 추가\n",
    "\n",
    "class  Calculator :\n",
    "    def setdata(self , first , second):                \n",
    "        self.first = first                              \n",
    "        self.second = second\n",
    "    def add(self) :\n",
    "        result = self.first + self.second        #객체의 첫번째 값 + 두번째 값을 result에 대입\n",
    "        return result\n",
    "\n",
    "a = Calculator()\n",
    "a.setdata(20,10)\n",
    "print(a.add())\n",
    "\n",
    "#덧셈뿐만 아닌 나머지 사칙연산도 똑같이 가능"
   ]
  },
  {
   "cell_type": "code",
   "execution_count": 32,
   "id": "50be6d33",
   "metadata": {},
   "outputs": [
    {
     "name": "stdout",
     "output_type": "stream",
     "text": [
      "9\n"
     ]
    }
   ],
   "source": [
    "### setdata라는 임의의 함수이름 말고 초기값을 설정하는 함수(생성자)\n",
    "# __init__   ->의미는 임의의 함수 setdata와 동일 , 하지만 생성자를 이용하면 객체가 생성될때 자동으로 호출\n",
    "\n",
    "class Calculator:\n",
    "    def __init__(self , first,second):\n",
    "        self.first = first\n",
    "        self.second = second\n",
    "    def add(self):\n",
    "        result = self.first + self.second\n",
    "        return result\n",
    "\n",
    "a = Calculator(6,3)       # 생성자를 이용해 객체가 생성되는 동시에 자동 호출이 되어 setdata를 통해 따로 안 넣어줘도 가능하다.\n",
    "print(a.add())\n"
   ]
  },
  {
   "cell_type": "code",
   "execution_count": null,
   "id": "502677e4",
   "metadata": {},
   "outputs": [],
   "source": []
  }
 ],
 "metadata": {
  "kernelspec": {
   "display_name": "Python 3 (ipykernel)",
   "language": "python",
   "name": "python3"
  },
  "language_info": {
   "codemirror_mode": {
    "name": "ipython",
    "version": 3
   },
   "file_extension": ".py",
   "mimetype": "text/x-python",
   "name": "python",
   "nbconvert_exporter": "python",
   "pygments_lexer": "ipython3",
   "version": "3.11.1"
  }
 },
 "nbformat": 4,
 "nbformat_minor": 5
}
