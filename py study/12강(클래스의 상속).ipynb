{
 "cells": [
  {
   "cell_type": "code",
   "execution_count": 17,
   "id": "9adbc886",
   "metadata": {},
   "outputs": [
    {
     "name": "stdout",
     "output_type": "stream",
     "text": [
      "18\n",
      "3\n",
      "10\n",
      "1\n",
      "1.5\n"
     ]
    }
   ],
   "source": [
    "#11강의 계산기 클래스\n",
    "\n",
    "class Calculator():\n",
    "    def __init__(self,first,second):\n",
    "        self.first = first\n",
    "        self.second = second\n",
    "    def add(self):\n",
    "        result = self.first + self.second\n",
    "        return result\n",
    "    def minus(self):\n",
    "        result = self.first - self.second\n",
    "        return result\n",
    "    def multiple(self):\n",
    "        result = self.first * self.second\n",
    "        return result\n",
    "    def divide(self):\n",
    "        result = self.first / self.second\n",
    "        return result\n",
    "\n",
    "a = Calculator(6,3)\n",
    "print(a.multiple())\n",
    "\n",
    "######## 클래스의 상속 \n",
    "'''\n",
    "     class 상속 당할 클래스이름(상속을 할 클래스이름):         \n",
    "        클래스구문\n",
    "'''\n",
    "\n",
    "class sangsuk(Calculator) :   #sangsuk : 자식 클래스   //// Calculator : 부모클래스\n",
    "    def modulo(self):\n",
    "        result = self.first % self.second\n",
    "        return result\n",
    "\n",
    "aa = sangsuk(8,5)\n",
    "print(aa.modulo())\n",
    "\n",
    "\n",
    "######## 저는 생성자만 상속받고 싶어요! -> super를 통해 가능\n",
    "class sangsuk2(Calculator):\n",
    "    def __init__(self,first,second):\n",
    "        super().__init__(first,second)\n",
    "    def add(self):\n",
    "        result = self.first + self.second\n",
    "        return result\n",
    "            \n",
    "aaa =  sangsuk2(8,2)\n",
    "print(aaa.add())\n",
    "\n",
    "\n",
    "#메소드 오버라이딩 -> 부모클래스를 상속받은 후, 자식클래스에서 부모클래스에서 상속받은 함수를 약간 변형(업그레이드) 시키고 싶을때 사용\n",
    "class sanksuk3(Calculator):\n",
    "    def __init__(self,first,second):\n",
    "        super().__init__(first,second)\n",
    "    def divide(self):\n",
    "        result = self.first // self.second\n",
    "        return result\n",
    "\n",
    "aaaa = sanksuk3(6,4)            \n",
    "print(aaaa.divide())            #자식 클래스의 메소드 오버라이딩으로 부모클래스의 일반 나눗셈이 버림 나눗셈으로 변경\n",
    "  \n",
    "aaaaa = Calculator(6,4)         #부모 클래스는 그대로 유지\n",
    "print(aaaaa.divide())\n"
   ]
  },
  {
   "cell_type": "code",
   "execution_count": 27,
   "id": "2ce4ac53",
   "metadata": {},
   "outputs": [
    {
     "name": "stdout",
     "output_type": "stream",
     "text": [
      "황금올리브 황금올리브\n",
      "히레카츠 히레카츠\n",
      "히레카츠 히레카츠\n",
      "2027456670832\n",
      "2027456669584\n"
     ]
    }
   ],
   "source": [
    "# 클래스 변수 -> 위의 a, aaa ,aaaa들은 객체변수라고 부름 -> 클래스에 영향을 미치지 않는다.\n",
    "# 클래스 변수는 클래스로 만든 모든 모든 객체에 공유된다.  (add,devide,minus)\n",
    "\n",
    "class Food:\n",
    "    favorite = \"황금올리브\"\n",
    "\n",
    "a = Food()\n",
    "b = Food()\n",
    "print(a.favorite,b.favorite)\n",
    "\n",
    "###클래스 변수의 수정\n",
    "Food.favorite = \"히레카츠\"\n",
    "print(a.favorite,b.favorite)\n",
    "\n",
    "c = Food()                  #맨 마지막 변경된 히레카츠를 따른다.       \n",
    "d = Food()\n",
    "print(c.favorite,d.favorite)\n",
    "\n",
    "\n",
    "###########객체변수가 어떤 클래스 변수를 따르는지 알고 싶다면? id()사용\n",
    "print(id(a.favorite))\n",
    "Food.favorite = \"광어초밥\"\n",
    "e = Food()                             #두 코드가 다르므로 다른 클래스 변수를 따른다.\n",
    "print(id(e.favorite))"
   ]
  },
  {
   "cell_type": "code",
   "execution_count": null,
   "id": "0a520818",
   "metadata": {},
   "outputs": [],
   "source": []
  }
 ],
 "metadata": {
  "kernelspec": {
   "display_name": "Python 3 (ipykernel)",
   "language": "python",
   "name": "python3"
  },
  "language_info": {
   "codemirror_mode": {
    "name": "ipython",
    "version": 3
   },
   "file_extension": ".py",
   "mimetype": "text/x-python",
   "name": "python",
   "nbconvert_exporter": "python",
   "pygments_lexer": "ipython3",
   "version": "3.11.1"
  }
 },
 "nbformat": 4,
 "nbformat_minor": 5
}
