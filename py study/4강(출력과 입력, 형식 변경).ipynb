{
 "cells": [
  {
   "cell_type": "code",
   "execution_count": 1,
   "id": "39ead9ba",
   "metadata": {},
   "outputs": [],
   "source": [
    "# 프로그래밍은 입력(input)을 전달받아 출력(output)을 만들어내는것"
   ]
  },
  {
   "cell_type": "code",
   "execution_count": 5,
   "id": "06f0a814",
   "metadata": {},
   "outputs": [
    {
     "name": "stdout",
     "output_type": "stream",
     "text": [
      "문자를 입력하세요 ->10\n",
      "10\n",
      "<class 'str'>\n"
     ]
    }
   ],
   "source": [
    "a = input('문자를 입력하세요 ->')\n",
    "print(a)\n",
    "print(type(a))"
   ]
  },
  {
   "cell_type": "code",
   "execution_count": 4,
   "id": "500e41ff",
   "metadata": {},
   "outputs": [],
   "source": [
    "#input은 사용자에게 도움말(가이드라인)을 제시, input에 입력된 값은 a 변수에 저장되고 output(print(a))\n",
    "# input에 저장된 값은 자동으로 문자열로 저장됨 -> 위의 a변수 안 10은 문자열 '10'"
   ]
  },
  {
   "cell_type": "code",
   "execution_count": 6,
   "id": "82fe358a",
   "metadata": {},
   "outputs": [],
   "source": [
    "# 문자열을 숫자형으로 변환하기 위해선 변환함수 사용 \n",
    "# int(a) - 정수형    //   float(a) -  실수형"
   ]
  },
  {
   "cell_type": "code",
   "execution_count": 10,
   "id": "ae295c29",
   "metadata": {},
   "outputs": [
    {
     "name": "stdout",
     "output_type": "stream",
     "text": [
      "6.0\n",
      "3\n"
     ]
    }
   ],
   "source": [
    "a = 3.6\n",
    "b = 6\n",
    "print(float(b))\n",
    "print(int(a))       # 정수형 int시 소숫점버림"
   ]
  },
  {
   "cell_type": "code",
   "execution_count": 12,
   "id": "2fb753e8",
   "metadata": {},
   "outputs": [
    {
     "name": "stdout",
     "output_type": "stream",
     "text": [
      "문자를 입력하세요 ->10\n",
      "10\n",
      "<class 'int'>\n"
     ]
    }
   ],
   "source": [
    "# 5번식을 숫자형으로 출력하기\n",
    "a = int(input('문자를 입력하세요 ->'))\n",
    "print(a)\n",
    "print(type(a))"
   ]
  },
  {
   "cell_type": "code",
   "execution_count": 13,
   "id": "72b98f00",
   "metadata": {},
   "outputs": [],
   "source": [
    "# 문자형으로 변경은 str(a)"
   ]
  },
  {
   "cell_type": "code",
   "execution_count": 16,
   "id": "3d473d32",
   "metadata": {},
   "outputs": [
    {
     "name": "stdout",
     "output_type": "stream",
     "text": [
      "현재는2023년 이야\n",
      "현재는 2023 년 이야\n"
     ]
    },
    {
     "ename": "TypeError",
     "evalue": "can only concatenate str (not \"int\") to str",
     "output_type": "error",
     "traceback": [
      "\u001b[1;31m---------------------------------------------------------------------------\u001b[0m",
      "\u001b[1;31mTypeError\u001b[0m                                 Traceback (most recent call last)",
      "Cell \u001b[1;32mIn[16], line 5\u001b[0m\n\u001b[0;32m      3\u001b[0m \u001b[38;5;28mprint\u001b[39m(\u001b[38;5;124m'\u001b[39m\u001b[38;5;124m현재는\u001b[39m\u001b[38;5;124m'\u001b[39m, \u001b[38;5;28mstr\u001b[39m(a) , \u001b[38;5;124m'\u001b[39m\u001b[38;5;124m년 이야\u001b[39m\u001b[38;5;124m'\u001b[39m)\n\u001b[0;32m      4\u001b[0m \u001b[38;5;66;03m# a를 문자형으로 변환을 안할시, 숫자형과 문자형의 사칙연산으로 취급하여 오류가 뜬다.\u001b[39;00m\n\u001b[1;32m----> 5\u001b[0m \u001b[38;5;28mprint\u001b[39m(\u001b[38;5;124;43m\"\u001b[39;49m\u001b[38;5;124;43m현재는\u001b[39;49m\u001b[38;5;124;43m\"\u001b[39;49m\u001b[43m \u001b[49m\u001b[38;5;241;43m+\u001b[39;49m\u001b[43m \u001b[49m\u001b[43ma\u001b[49m \u001b[38;5;241m+\u001b[39m \u001b[38;5;124m'\u001b[39m\u001b[38;5;124m년이야\u001b[39m\u001b[38;5;124m'\u001b[39m)\n",
      "\u001b[1;31mTypeError\u001b[0m: can only concatenate str (not \"int\") to str"
     ]
    }
   ],
   "source": [
    "a = 2023\n",
    "print('현재는'+ str(a) + '년 이야')\n",
    "# a를 문자형으로 변환을 안할시, 숫자형과 문자형의 사칙연산으로 취급하여 오류가 뜬다.\n",
    "print(\"현재는\" + a + '년이야')"
   ]
  },
  {
   "cell_type": "code",
   "execution_count": null,
   "id": "ae90a645",
   "metadata": {},
   "outputs": [],
   "source": []
  }
 ],
 "metadata": {
  "kernelspec": {
   "display_name": "Python 3 (ipykernel)",
   "language": "python",
   "name": "python3"
  },
  "language_info": {
   "codemirror_mode": {
    "name": "ipython",
    "version": 3
   },
   "file_extension": ".py",
   "mimetype": "text/x-python",
   "name": "python",
   "nbconvert_exporter": "python",
   "pygments_lexer": "ipython3",
   "version": "3.11.1"
  }
 },
 "nbformat": 4,
 "nbformat_minor": 5
}
