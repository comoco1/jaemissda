{
 "cells": [
  {
   "cell_type": "code",
   "execution_count": 1,
   "id": "aad7d481",
   "metadata": {},
   "outputs": [],
   "source": [
    "# 사용자 지정함수 -> 반복되는 형태를 함수로 제작하여 값만 넣어 결과값을 출력 하는것, 시간 절약 굳굳"
   ]
  },
  {
   "cell_type": "code",
   "execution_count": 7,
   "id": "8539a6c2",
   "metadata": {},
   "outputs": [
    {
     "name": "stdout",
     "output_type": "stream",
     "text": [
      "365.0\n",
      "370.0\n",
      "375.0\n"
     ]
    }
   ],
   "source": [
    "'''\n",
    "    def 함수명(매개변수1, 매개변수2 .....)\n",
    "        함수내용\n",
    "'''\n",
    "\n",
    "def a(x):\n",
    "    return x * 100 /20 + 340\n",
    "\n",
    "print(a(5))\n",
    "print(a(6))\n",
    "print(a(7))"
   ]
  },
  {
   "cell_type": "code",
   "execution_count": 9,
   "id": "d2a0bd1f",
   "metadata": {},
   "outputs": [
    {
     "name": "stdout",
     "output_type": "stream",
     "text": [
      "25\n"
     ]
    }
   ],
   "source": [
    "def hap(a,b):\n",
    "    return a+b\n",
    "\n",
    "num1 = 10\n",
    "num2 = 15\n",
    "''' print(hap(num1,num2)) ''' \n",
    "result = hap(num1,num2)\n",
    "print(result)\n",
    "\n"
   ]
  },
  {
   "cell_type": "code",
   "execution_count": null,
   "id": "c404c7ed",
   "metadata": {},
   "outputs": [],
   "source": []
  }
 ],
 "metadata": {
  "kernelspec": {
   "display_name": "Python 3 (ipykernel)",
   "language": "python",
   "name": "python3"
  },
  "language_info": {
   "codemirror_mode": {
    "name": "ipython",
    "version": 3
   },
   "file_extension": ".py",
   "mimetype": "text/x-python",
   "name": "python",
   "nbconvert_exporter": "python",
   "pygments_lexer": "ipython3",
   "version": "3.11.1"
  }
 },
 "nbformat": 4,
 "nbformat_minor": 5
}
