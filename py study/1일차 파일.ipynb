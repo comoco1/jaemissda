{
 "cells": [
  {
   "cell_type": "code",
   "execution_count": 12,
   "id": "9632ae1b",
   "metadata": {},
   "outputs": [
    {
     "name": "stdout",
     "output_type": "stream",
     "text": [
      "따음표는 통일을 시켜야한다.\n"
     ]
    }
   ],
   "source": [
    "print(\"따음표는 통일을 시켜야한다.\")  # print \"이렇게나', '이렇게 불가\""
   ]
  },
  {
   "cell_type": "code",
   "execution_count": 5,
   "id": "e136763a",
   "metadata": {},
   "outputs": [
    {
     "name": "stdout",
     "output_type": "stream",
     "text": [
      "여러줄을 한번에 출력하기 위해서는 \n",
      "    주석 처리와 같이 따음표 \n",
      "    3개가 붙어야한다.\n"
     ]
    }
   ],
   "source": [
    "print(\"\"\"여러줄을 한번에 출력하기 위해서는 \n",
    "    주석 처리와 같이 따음표 \n",
    "    3개가 붙어야한다.\"\"\")"
   ]
  },
  {
   "cell_type": "code",
   "execution_count": 6,
   "id": "42206364",
   "metadata": {},
   "outputs": [
    {
     "ename": "SyntaxError",
     "evalue": "unterminated string literal (detected at line 1) (2363290075.py, line 1)",
     "output_type": "error",
     "traceback": [
      "\u001b[1;36m  Cell \u001b[1;32mIn[6], line 1\u001b[1;36m\u001b[0m\n\u001b[1;33m    print(\"여러줄을 출력하는데\u001b[0m\n\u001b[1;37m          ^\u001b[0m\n\u001b[1;31mSyntaxError\u001b[0m\u001b[1;31m:\u001b[0m unterminated string literal (detected at line 1)\n"
     ]
    }
   ],
   "source": [
    "print(\"여러줄을 출력하는데\n",
    "      이렇게 따음표 1개만 쓰면\n",
    "      안된다!\")"
   ]
  },
  {
   "cell_type": "code",
   "execution_count": 7,
   "id": "b5eaf786",
   "metadata": {},
   "outputs": [],
   "source": [
    "#주석은 샵이나 따음표 3개로 처리!"
   ]
  },
  {
   "cell_type": "code",
   "execution_count": 9,
   "id": "d07eb9d5",
   "metadata": {},
   "outputs": [
    {
     "name": "stdout",
     "output_type": "stream",
     "text": [
      "뒤에 엔드를 사용해서 맨 뒤에 붙힐수 있음1\n",
      "뒤에 엔드를 사용해서 맨 뒤에 붙힐수 있음,뒤에 엔드를 사용해서 맨 뒤에 붙힐수 있음뒤에 엔드를 사용해서 맨 뒤에 붙힐수 있음!"
     ]
    }
   ],
   "source": [
    "print(\"뒤에 엔드를 사용해서 맨 뒤에 붙힐수 있음1\")\n",
    "print(\"뒤에 엔드를 사용해서 맨 뒤에 붙힐수 있음\", end =',')\n",
    "print(\"뒤에 엔드를 사용해서 맨 뒤에 붙힐수 있음\", end ='')\n",
    "print(\"뒤에 엔드를 사용해서 맨 뒤에 붙힐수 있음\", end ='!')"
   ]
  },
  {
   "cell_type": "code",
   "execution_count": 11,
   "id": "ec9aa8dc",
   "metadata": {},
   "outputs": [
    {
     "name": "stdout",
     "output_type": "stream",
     "text": [
      "줄 바꿈의 의미는 \n",
      "달러와 엔을 사용\n"
     ]
    }
   ],
   "source": [
    "print('줄 바꿈의 의미는 \\n달러와 엔을 사용')"
   ]
  }
 ],
 "metadata": {
  "kernelspec": {
   "display_name": "Python 3 (ipykernel)",
   "language": "python",
   "name": "python3"
  },
  "language_info": {
   "codemirror_mode": {
    "name": "ipython",
    "version": 3
   },
   "file_extension": ".py",
   "mimetype": "text/x-python",
   "name": "python",
   "nbconvert_exporter": "python",
   "pygments_lexer": "ipython3",
   "version": "3.11.1"
  }
 },
 "nbformat": 4,
 "nbformat_minor": 5
}
