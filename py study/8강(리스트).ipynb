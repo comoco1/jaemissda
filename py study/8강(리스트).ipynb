{
 "cells": [
  {
   "cell_type": "code",
   "execution_count": 1,
   "id": "50f40214",
   "metadata": {},
   "outputs": [],
   "source": [
    "#리스트 -> 다른 프로그래밍의 배열과 같음"
   ]
  },
  {
   "cell_type": "code",
   "execution_count": 11,
   "id": "ec417fe2",
   "metadata": {},
   "outputs": [
    {
     "name": "stdout",
     "output_type": "stream",
     "text": [
      "[1, 3, 5, 7, 9]\n",
      "1 2 3 4 5\n",
      "1 2 3 4 5 \n",
      "1 2 3 4 5 "
     ]
    }
   ],
   "source": [
    "aa = [1,3,5,7,9]\n",
    "print(aa)\n",
    "\n",
    "#리스트 값들은 인덱스를 이용해 추출가능\n",
    "print(a[0],end=\" \")\n",
    "print(a[1],end=\" \")\n",
    "print(a[2],end=\" \")\n",
    "print(a[3],end=\" \")\n",
    "print(a[4])\n",
    "\n",
    "# for문을 이용한 인덱스 접근\n",
    "a = [1,2,3,4,5]\n",
    "for i in range(0,len(a)):        #0부터 리스트a의 길이까지 -> a리스트의 len은 5 == range(0,5):\n",
    "    print(a[i],end =\" \")\n",
    "print('')\n",
    "\n",
    "# 리스트 자체를 반복문의 대상으로 넣어 가져오기도 가능!\n",
    "for i in a:\n",
    "    print(i,end=\" \")\n"
   ]
  },
  {
   "cell_type": "code",
   "execution_count": 12,
   "id": "25a6a0a4",
   "metadata": {},
   "outputs": [
    {
     "name": "stdout",
     "output_type": "stream",
     "text": [
      "[1, 2, 3, 4, 5, 6, 7, 8, 9, 10]\n",
      "[1, 2, 3, 4, 5]\n",
      "[4, 5, 6, 7, 8, 9, 10]\n",
      "[1, 2, 3, 4, 5, 6]\n"
     ]
    }
   ],
   "source": [
    "#리스트 슬라이싱   콜론을 이용해 슬라이싱 가능 => 자주사용!\n",
    "\n",
    "a = [1,2,3,4,5,6,7,8,9,10]\n",
    "\n",
    "a1 = a[0:5]\n",
    "a2 = a[3:]\n",
    "a3 = a[:6]\n",
    "print(a)\n",
    "print(a1)\n",
    "print(a2)\n",
    "print(a3)"
   ]
  },
  {
   "cell_type": "code",
   "execution_count": 14,
   "id": "1831b1b3",
   "metadata": {},
   "outputs": [
    {
     "name": "stdout",
     "output_type": "stream",
     "text": [
      "[1, 5, 7, 9, 12, 15, 18]\n",
      "[1, 5, 6, 7, 9, 12, 15, 18]\n"
     ]
    }
   ],
   "source": [
    "# 리스트에 삽입함수 (append , insert)\n",
    "'''\n",
    "    append(값) -> 리스트의 마지막 값에 특정 값을 삽입\n",
    "    insert(인덱스,값) -> 리스트의 특정 인덱스에 특정 값을 삽입\n",
    "'''\n",
    "a = [1,5,7,9,12,15]\n",
    "a.append(18)\n",
    "print(a)\n",
    "a.insert(2,6)\n",
    "print(a)"
   ]
  },
  {
   "cell_type": "code",
   "execution_count": 20,
   "id": "dd078c02",
   "metadata": {},
   "outputs": [
    {
     "name": "stdout",
     "output_type": "stream",
     "text": [
      "[1, 3, 7, 9]\n",
      "[1, 3, 9]\n"
     ]
    }
   ],
   "source": [
    "# 리스트 값 삭제함수(del,remove)\n",
    "'''\n",
    "    del[2] -> 특정 인덱스의 값을 삭제\n",
    "    remove(값) -> 특정 값을 삭제\n",
    "'''\n",
    "a = [1,3,5,7,9]\n",
    "del a[2]\n",
    "print(a)\n",
    "a.remove(7)\n",
    "print(a)"
   ]
  },
  {
   "cell_type": "code",
   "execution_count": null,
   "id": "0212c4ad",
   "metadata": {},
   "outputs": [],
   "source": []
  }
 ],
 "metadata": {
  "kernelspec": {
   "display_name": "Python 3 (ipykernel)",
   "language": "python",
   "name": "python3"
  },
  "language_info": {
   "codemirror_mode": {
    "name": "ipython",
    "version": 3
   },
   "file_extension": ".py",
   "mimetype": "text/x-python",
   "name": "python",
   "nbconvert_exporter": "python",
   "pygments_lexer": "ipython3",
   "version": "3.11.1"
  }
 },
 "nbformat": 4,
 "nbformat_minor": 5
}
