{
 "cells": [
  {
   "cell_type": "code",
   "execution_count": 1,
   "id": "38cd3e2e",
   "metadata": {},
   "outputs": [],
   "source": [
    "# 튜플 -> 리스트와 유사하지만 리스트와 달리 값을 바꿀 수 없음(값의 생성,삭제,변경 xx)"
   ]
  },
  {
   "cell_type": "code",
   "execution_count": 5,
   "id": "13d0ed2e",
   "metadata": {},
   "outputs": [
    {
     "name": "stdout",
     "output_type": "stream",
     "text": [
      "(1, 3, 5, 7, 9)\n",
      "<class 'tuple'>\n",
      "(1, '안녕', 3)\n"
     ]
    }
   ],
   "source": [
    "# 리스트는 [], 튜플은 ()\n",
    "\n",
    "a = (1,3,5,7,9)\n",
    "print(a)\n",
    "print(type(a))\n",
    "\n",
    "b = (1,\"안녕\",3)  # 자료형 상관없이 가능\n",
    "print(b)"
   ]
  },
  {
   "cell_type": "code",
   "execution_count": 8,
   "id": "c800f4dd",
   "metadata": {},
   "outputs": [
    {
     "name": "stdout",
     "output_type": "stream",
     "text": [
      "(1, 3, 5, 7, '일', '삼', '오', '칠')\n",
      "(1, 3, 5, 7, 2, 4, 6, 8)\n"
     ]
    }
   ],
   "source": [
    "#튜플은 값을 변경하는 행위는 불가 -> 하지만 튜플 여러개를 연산자로 결합하여 추가하는 행위는 가능\n",
    "# ex) \n",
    "a = (1,3,5,7)\n",
    "b = ('일','삼','오','칠')\n",
    "aa = a+ b\n",
    "print(aa)\n",
    "a1 = (2,4,6,8)\n",
    "hap_a = a+a1     #숫자형 and 같은 인덱스  를 가진 숫자형 자료끼리의 합도 문자형으로 취급\n",
    "print(hap_a)"
   ]
  },
  {
   "cell_type": "code",
   "execution_count": 9,
   "id": "93eec29d",
   "metadata": {},
   "outputs": [
    {
     "name": "stdout",
     "output_type": "stream",
     "text": [
      "(9, 1)\n"
     ]
    }
   ],
   "source": [
    "# 튜플의 장점 -> 함수의 리턴값을 한꺼번에 많이 받아올 수 있다.\n",
    "\n",
    "def minmax(a):\n",
    "    return max(a),min(a)           #def 지정함수 사용시 리턴값이 자동으로 튜플로 인식\n",
    "\n",
    "aa = [1,3,5,7,9] \n",
    "aaa = minmax(aa)   \n",
    "print(aaa)"
   ]
  },
  {
   "cell_type": "code",
   "execution_count": 14,
   "id": "8359893c",
   "metadata": {},
   "outputs": [
    {
     "name": "stdout",
     "output_type": "stream",
     "text": [
      "{1, 3, 5, 7}\n",
      "{'o', 'l', 'd', ' ', 'h', 'w', 'r', '!', 'e'}\n",
      "{1, 3, 5}\n"
     ]
    }
   ],
   "source": [
    "# 집합 \n",
    "'''\n",
    "    중학교때 배웠던 그집합! 맞아용\n",
    "    표기는 { } -> but 입력을 { }로 하고 원소를 넣지 않으면 딕셔너리로 인식 -> set() 함수를 통해 집합생성\n",
    "'''\n",
    "\n",
    "a = set([1,3,5,7])\n",
    "a1 = set('hello world!')\n",
    "a2 = {5,3,1}\n",
    "print(a)\n",
    "print(a1)               # 순서가 뒤죽박죽 이상해..! -> 집합은 순서가 없다.  == 인덱스 사용 불가!  \n",
    "                        # 또한 l이 2개인데 하나만 표시 == 집합은 중복 허용 ㄴㄴ\n",
    "print(a2)"
   ]
  },
  {
   "cell_type": "code",
   "execution_count": 28,
   "id": "652b4e16",
   "metadata": {},
   "outputs": [
    {
     "name": "stdout",
     "output_type": "stream",
     "text": [
      "{2}\n",
      "{2}\n",
      "{1, 2, 4, 5, 6, 7, 8}\n",
      "{1, 2, 4, 5, 6, 7, 8}\n",
      "{1, 5, 7}\n",
      "{1, 5, 7}\n"
     ]
    }
   ],
   "source": [
    "# 교집합 (& , intersection)\n",
    "\n",
    "a = {1,2,5,7}\n",
    "aa = {2,4,6,8}\n",
    "print(a.intersection(aa))\n",
    "print(a & aa)\n",
    "\n",
    "# 합집합 (\\ , union)\n",
    "print(a | aa)\n",
    "print(a.union(aa))\n",
    "\n",
    "# 차집합 (- , difference)\n",
    "print(a-aa)\n",
    "print(a.difference(aa))\n"
   ]
  },
  {
   "cell_type": "code",
   "execution_count": 35,
   "id": "09882778",
   "metadata": {},
   "outputs": [
    {
     "name": "stdout",
     "output_type": "stream",
     "text": [
      "{1, 3, 5, 7, 9, 11}\n",
      "{1, 2, 3, 4, 5, 6, 7, 9, 11}\n",
      "{1, 5, 7, 9}\n"
     ]
    }
   ],
   "source": [
    "# 집합 원소 추가 (add, update)\n",
    "'''\n",
    "    add() -> 하나의 원소 추가가능\n",
    "    update([]) -> 두개 이상의 원소 추가가능\n",
    "'''\n",
    "a = {1,3,5,7,9}\n",
    "a.add(11)              #주의 => 집합에는 중복이 허용되지 않음\n",
    "print(a)\n",
    "a.update([2,4,6])\n",
    "print(a)\n",
    "\n",
    "# 집합 원소 제거 (remove) ->  del 함수는 인덱스를 사용해 제거 -> 집합은 인덱스 사용 불가 -> del 사용 불가\n",
    "\n",
    "a = {1,3,5,7,9}\n",
    "a.remove(3)\n",
    "print(a)"
   ]
  },
  {
   "cell_type": "code",
   "execution_count": null,
   "id": "43ea2bb0",
   "metadata": {},
   "outputs": [],
   "source": []
  }
 ],
 "metadata": {
  "kernelspec": {
   "display_name": "Python 3 (ipykernel)",
   "language": "python",
   "name": "python3"
  },
  "language_info": {
   "codemirror_mode": {
    "name": "ipython",
    "version": 3
   },
   "file_extension": ".py",
   "mimetype": "text/x-python",
   "name": "python",
   "nbconvert_exporter": "python",
   "pygments_lexer": "ipython3",
   "version": "3.11.1"
  }
 },
 "nbformat": 4,
 "nbformat_minor": 5
}
